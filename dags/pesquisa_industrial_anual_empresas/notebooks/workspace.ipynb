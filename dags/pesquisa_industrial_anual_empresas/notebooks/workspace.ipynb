{
 "cells": [
  {
   "cell_type": "code",
   "execution_count": null,
   "metadata": {},
   "outputs": [],
   "source": [
    "import requests\n",
    "from pyspark.sql import SparkSession\n",
    "from pyspark.sql import functions as F\n",
    "from pyspark.sql import types as T"
   ]
  },
  {
   "cell_type": "code",
   "execution_count": null,
   "metadata": {},
   "outputs": [],
   "source": [
    "url = \"https://servicodados.ibge.gov.br/api/v3/agregados/1839/periodos/2022/variaveis/630?localidades=N1[all]\""
   ]
  },
  {
   "cell_type": "code",
   "execution_count": null,
   "metadata": {},
   "outputs": [],
   "source": [
    "def get_data_from_url(url):\n",
    "    response = requests.get(url=url)\n",
    "    response.raise_for_status()\n",
    "    return response.json()\n",
    "\n",
    "def create_spark_session():\n",
    "    return SparkSession.builder.getOrCreate()\n",
    "\n",
    "def create_dataframe(spark, data):\n",
    "    schema = T.StructType([\n",
    "        T.StructField(\"id\", T.StringType(), True),\n",
    "        T.StructField(\"variavel\", T.StringType(), True),\n",
    "        T.StructField(\"unidade\", T.StringType(), True),\n",
    "        T.StructField(\"resultados\", T.ArrayType(T.StructType([\n",
    "            T.StructField(\"classificacoes\", T.ArrayType(T.StructType([\n",
    "                T.StructField(\"id\", T.StringType(), True),\n",
    "                T.StructField(\"nome\", T.StringType(), True),\n",
    "                T.StructField(\"categoria\", T.MapType(T.StringType(), T.StringType()), True)\n",
    "            ])), True),\n",
    "            T.StructField(\"series\", T.ArrayType(T.StructType([\n",
    "                T.StructField(\"localidade\", T.StructType([\n",
    "                    T.StructField(\"id\", T.StringType(), True),\n",
    "                    T.StructField(\"nivel\", T.StructType([\n",
    "                        T.StructField(\"id\", T.StringType(), True),\n",
    "                        T.StructField(\"nome\", T.StringType(), True)\n",
    "                    ]), True),\n",
    "                    T.StructField(\"nome\", T.StringType(), True)\n",
    "                ]), True),\n",
    "                T.StructField(\"serie\", T.MapType(T.StringType(), T.StringType()), True)\n",
    "            ])), True)\n",
    "        ])), True)\n",
    "    ])\n",
    "    return spark.createDataFrame(data, schema)\n",
    "\n",
    "def process_dataframe(df):\n",
    "    df_exploded_resultados = df.withColumn(\"resultado\", F.explode(\"resultados\"))\n",
    "    df_exploded_classificacoes = df_exploded_resultados.withColumn(\"classificacao\", F.explode(\"resultado.classificacoes\"))\n",
    "    df_exploded_series = df_exploded_classificacoes.withColumn(\"serie\", F.explode(\"resultado.series\"))\n",
    "    df_out = df_exploded_series.select(\n",
    "        F.col(\"id\").alias(\"id\"),\n",
    "        F.col(\"variavel\").alias(\"variavel\"),\n",
    "        F.col(\"unidade\").alias(\"unidade\"),\n",
    "        F.col(\"classificacao.id\").alias(\"classificacao_id\"),\n",
    "        F.col(\"classificacao.nome\").alias(\"classificacao_nome\"),\n",
    "        F.col(\"classificacao.categoria\").alias(\"classificacao_categoria\"),\n",
    "        F.col(\"serie.localidade.id\").alias(\"localidade_id\"),\n",
    "        F.col(\"serie.localidade.nivel.id\").alias(\"localidade_nivel_id\"),\n",
    "        F.col(\"serie.localidade.nivel.nome\").alias(\"localidade_nivel_nome\"),\n",
    "        F.col(\"serie.localidade.nome\").alias(\"localidade_nome\"),\n",
    "        F.col(\"serie.serie\").alias(\"serie\")\n",
    "    )\n",
    "    return df_out"
   ]
  },
  {
   "cell_type": "code",
   "execution_count": null,
   "metadata": {},
   "outputs": [],
   "source": [
    "#main\n",
    "\n",
    "data = get_data_from_url(url)\n",
    "spark = create_spark_session()\n",
    "df = create_dataframe(spark, data)\n",
    "df_out = process_dataframe(df)\n",
    "df_out.show(truncate=False)"
   ]
  },
  {
   "cell_type": "code",
   "execution_count": null,
   "metadata": {},
   "outputs": [],
   "source": []
  },
  {
   "cell_type": "code",
   "execution_count": null,
   "metadata": {},
   "outputs": [],
   "source": []
  }
 ],
 "metadata": {
  "kernelspec": {
   "display_name": ".venv",
   "language": "python",
   "name": "python3"
  },
  "language_info": {
   "codemirror_mode": {
    "name": "ipython",
    "version": 3
   },
   "file_extension": ".py",
   "mimetype": "text/x-python",
   "name": "python",
   "nbconvert_exporter": "python",
   "pygments_lexer": "ipython3",
   "version": "3.11.7"
  }
 },
 "nbformat": 4,
 "nbformat_minor": 2
}
